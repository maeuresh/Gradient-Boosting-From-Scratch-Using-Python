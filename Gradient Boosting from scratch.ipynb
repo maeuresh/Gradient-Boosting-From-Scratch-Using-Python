{
 "cells": [
  {
   "cell_type": "code",
   "execution_count": 91,
   "id": "aedad002",
   "metadata": {},
   "outputs": [],
   "source": [
    "import numpy as np\n",
    "import pandas as pd\n",
    "from sklearn.tree import DecisionTreeRegressor"
   ]
  },
  {
   "cell_type": "code",
   "execution_count": 92,
   "id": "b31daa40",
   "metadata": {},
   "outputs": [],
   "source": [
    "class GradientBoostingRegressor:\n",
    "    def __init__(self, lr=0.1, n_estimators=100, base_learner=DecisionTreeRegressor):\n",
    "        self.lr = lr\n",
    "        self.n_estimators = n_estimators\n",
    "        self.base_learner = base_learner\n",
    "        \n",
    "    def fit(self, X, y, **params):\n",
    "        #empty list to store weak models/learners\n",
    "        self.base_models = [] \n",
    "        \n",
    "        #base model f0\n",
    "        Fm = np.full(shape=y.shape, fill_value=0.0)\n",
    "        \n",
    "        for i in range (0, self.n_estimators):\n",
    "            #Calculate the (pseudo) residuals/negative which represents the error that the next model will try to correct\n",
    "            residual = y - Fm\n",
    "            \n",
    "            #initialize a new base learner(next model) with the specified parameters as before\n",
    "            base_model = self.base_learner(**params)\n",
    "            \n",
    "            #train the now initialized base model on train data X and the residuals of previous models\n",
    "            base_model.fit(X,residual)\n",
    "            \n",
    "            #add the model to the list of models in base_models\n",
    "            self.base_models.append(base_model)\n",
    "            \n",
    "            #update the predictions\n",
    "            Fm = Fm + self.lr * base_model.predict(X)\n",
    "        \n",
    "        #return the final prediction\n",
    "        return Fm\n",
    "    \n",
    "    \n",
    "    def predict(self, X):\n",
    "        #Initialize with zeros to update and store the predictions \n",
    "        y_pred = np.zeros(X.shape[0]) \n",
    "\n",
    "        #iterate over all the trained models\n",
    "        for base_model in self.base_models:\n",
    "            update = self.lr * base_model.predict(X)\n",
    "            \n",
    "            #Aggregate the prediction from all the base learners\n",
    "            y_pred = y_pred + update  \n",
    "\n",
    "        return y_pred"
   ]
  },
  {
   "cell_type": "code",
   "execution_count": 93,
   "id": "a44f3e3f",
   "metadata": {},
   "outputs": [],
   "source": [
    "from sklearn.model_selection import train_test_split\n",
    "from sklearn import datasets\n",
    "from sklearn.metrics import explained_variance_score\n",
    "\n",
    "data = datasets.load_breast_cancer()\n",
    "X, y = data.data, data.target\n",
    "\n",
    "#pd.DataFrame(X)\n",
    "#pd.DataFrame(y)\n",
    "\n",
    "X_train, X_test, y_train, y_test = train_test_split(X, y, test_size=0.2, random_state=0)\n",
    "\n",
    "model = GradientBoostingRegressor()\n",
    "model.fit(X_train, y_train, max_depth = 20)\n",
    "y_pred = model.predict(X_test)"
   ]
  },
  {
   "cell_type": "code",
   "execution_count": 96,
   "id": "c9dbe69a",
   "metadata": {},
   "outputs": [
    {
     "name": "stdout",
     "output_type": "stream",
     "text": [
      "Explained Variance Score: 0.8922602146930558\n"
     ]
    }
   ],
   "source": [
    "explained_variance = explained_variance_score(y_test, y_pred)\n",
    "print(\"Explained Variance Score:\", explained_variance)"
   ]
  },
  {
   "cell_type": "markdown",
   "id": "6a10f427",
   "metadata": {},
   "source": [
    "## Using Sklearns GradientBoostingRegressor Library"
   ]
  },
  {
   "cell_type": "code",
   "execution_count": 54,
   "id": "e56bc392",
   "metadata": {},
   "outputs": [],
   "source": [
    "from sklearn.ensemble import GradientBoostingRegressor"
   ]
  },
  {
   "cell_type": "code",
   "execution_count": 55,
   "id": "a9ccdb59",
   "metadata": {},
   "outputs": [
    {
     "name": "stdout",
     "output_type": "stream",
     "text": [
      "Explained Variance Score: 0.8793977919508051\n"
     ]
    }
   ],
   "source": [
    "model_2 = GradientBoostingRegressor(n_estimators=25, learning_rate=0.1,loss=\"squared_error\", max_depth=20, random_state = 0)\n",
    "\n",
    "model_2.fit(X_train, y_train)\n",
    "\n",
    "y_pred = model_2.predict(X_test)\n",
    "\n",
    "explained_variance = explained_variance_score(y_test, y_pred)\n",
    "print(\"Explained Variance Score:\", explained_variance)"
   ]
  },
  {
   "cell_type": "markdown",
   "id": "fc49ccc2",
   "metadata": {},
   "source": [
    "#### The Explained Variance Score of our model and the Explained Variance Score of the model of Sklearns GradientBoostingRegressor is almost similar"
   ]
  },
  {
   "cell_type": "code",
   "execution_count": null,
   "id": "891e17d5",
   "metadata": {},
   "outputs": [],
   "source": []
  }
 ],
 "metadata": {
  "kernelspec": {
   "display_name": "Python 3 (ipykernel)",
   "language": "python",
   "name": "python3"
  },
  "language_info": {
   "codemirror_mode": {
    "name": "ipython",
    "version": 3
   },
   "file_extension": ".py",
   "mimetype": "text/x-python",
   "name": "python",
   "nbconvert_exporter": "python",
   "pygments_lexer": "ipython3",
   "version": "3.11.5"
  }
 },
 "nbformat": 4,
 "nbformat_minor": 5
}
